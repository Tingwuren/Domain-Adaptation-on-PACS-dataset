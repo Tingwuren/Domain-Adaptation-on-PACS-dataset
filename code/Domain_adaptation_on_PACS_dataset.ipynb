{
  "cells": [
    {
      "cell_type": "code",
      "execution_count": 1,
      "metadata": {
        "colab": {
          "base_uri": "https://localhost:8080/"
        },
        "id": "cE5YalV4Zd7U",
        "outputId": "a1e16315-c125-4116-cc86-74cf4d70e986"
      },
      "outputs": [],
      "source": [
        "!python3 --version"
      ]
    },
    {
      "cell_type": "markdown",
      "metadata": {
        "id": "c9QcGnGPdX2C"
      },
      "source": [
        "\n",
        "**Install requirements**"
      ]
    },
    {
      "cell_type": "code",
      "execution_count": null,
      "metadata": {
        "id": "k9O3aM3Tb28q"
      },
      "outputs": [],
      "source": [
        "# !pip3 install 'torch==1.3.1'\n",
        "# !pip3 install 'torchvision==0.5.0'\n",
        "# !pip3 install 'Pillow-SIMD'\n",
        "# !pip3 install 'tqdm'"
      ]
    },
    {
      "cell_type": "markdown",
      "metadata": {
        "id": "vmTVHDMVYBDq"
      },
      "source": [
        "**Import models and utils from github**\n",
        "\n"
      ]
    },
    {
      "cell_type": "code",
      "execution_count": 2,
      "metadata": {
        "colab": {
          "base_uri": "https://localhost:8080/",
          "height": 144
        },
        "id": "MLy1aqGuYADO",
        "outputId": "9bf910d8-bf5c-4a02-b9a6-050582aa9ff8"
      },
      "outputs": [],
      "source": [
        "import os\n",
        "\n",
        "if not os.path.isdir('./models'):\n",
        "  !git clone https://github.com/robertofranceschi/Domain-adaptation-on-PACS-dataset.git\n",
        "  !cp -r \"/content/Domain-adaptation-on-PACS-dataset/code/models\" \"/content/\"\n",
        "  !cp -r \"/content/Domain-adaptation-on-PACS-dataset/code/utils\" \"/content/\""
      ]
    },
    {
      "cell_type": "markdown",
      "metadata": {
        "id": "fo942LMOdlh4"
      },
      "source": [
        "**Import libraries**"
      ]
    },
    {
      "cell_type": "code",
      "execution_count": 1,
      "metadata": {
        "id": "DokFOdD1dJEl"
      },
      "outputs": [],
      "source": [
        "import sys\n",
        "import os\n",
        "import logging\n",
        "\n",
        "import torch\n",
        "import torch.nn as nn\n",
        "import torch.optim as optim\n",
        "from torch.utils.data import Subset, DataLoader\n",
        "from torch.backends import cudnn\n",
        "\n",
        "import torchvision\n",
        "from torchvision import transforms\n",
        "from torchvision.models import alexnet\n",
        "\n",
        "from PIL import Image\n",
        "from tqdm import tqdm\n",
        "\n",
        "from models.models import *\n",
        "from utils.utils import *"
      ]
    },
    {
      "cell_type": "markdown",
      "metadata": {
        "id": "OIDLJuIXK_vh"
      },
      "source": [
        "**Set Arguments**"
      ]
    },
    {
      "cell_type": "code",
      "execution_count": 2,
      "metadata": {
        "id": "d5PkYfqfK_SA"
      },
      "outputs": [],
      "source": [
        "DEVICE = 'cuda'      # 'cuda' or 'cpu'\n",
        "\n",
        "NUM_CLASSES = 7      # 7 classes for each domain: 'dog', 'elephant', 'giraffe', 'guitar', 'horse', 'house', 'person'\n",
        "DATASETS_NAMES = ['photo', 'art', 'cartoon', 'sketch']\n",
        "CLASSES_NAMES = ['Dog', 'Elephant', 'Giraffe', 'Guitar', 'Horse', 'House', 'Person']\n",
        "\n",
        "# HYPERPARAMETER -------------------\n",
        "MOMENTUM = 0.9       # Hyperparameter for SGD, keep this at 0.9 when using SGD\n",
        "WEIGHT_DECAY = 5e-5  # Regularization, you can keep this at the default\n",
        "GAMMA = 0.1          # Multiplicative factor for learning rate step-down\n",
        "LOG_FREQUENCY = 5\n",
        "# ----------------------------------\n",
        "\n",
        "# Hyperparameters for grid search\n",
        "BATCH_SIZE = 128      # Higher batch sizes allows for larger learning rates. An empirical heuristic suggests that, when changing\n",
        "                      # the batch size, learning rate should change by the same factor to have comparable results\n",
        "LR = 1e-4             # The initial Learning Rate\n",
        "NUM_EPOCHS = 30       # Total number of training epochs (iterations over dataset)\n",
        "STEP_SIZE = 20        # How many epochs before decreasing learning rate (if using a step-down policy)\n",
        "MODE = '4C'           # '3A', '3B', '4A', '4C'\n",
        "ALPHA = 1.            # alpha\n",
        "ALPHA_EXP = False\n",
        "\n",
        "EVAL_ACCURACY_ON_TRAINING = False\n",
        "SHOW_IMG = True       # if 'True' show images and graphs on output\n",
        "SHOW_RESULTS = True   # if 'True' show images and graphs on output"
      ]
    },
    {
      "cell_type": "markdown",
      "metadata": {
        "id": "9gwii0TBHvzh"
      },
      "source": [
        "**Define Data Preprocessing**"
      ]
    },
    {
      "cell_type": "code",
      "execution_count": 3,
      "metadata": {
        "id": "QUDdw4j2H0Mc"
      },
      "outputs": [],
      "source": [
        "# means and standard deviations ImageNet because the network is pretrained\n",
        "means, stds = (0.485, 0.456, 0.406), (0.229, 0.224, 0.225)\n",
        "\n",
        "# Define transforms to apply to each image\n",
        "transf = transforms.Compose([ #transforms.Resize(227),      # Resizes short size of the PIL image to 256\n",
        "                              transforms.CenterCrop(224),  # Crops a central square patch of the image 224 because torchvision's AlexNet needs a 224x224 input!\n",
        "                              transforms.ToTensor(), # Turn PIL Image to torch.Tensor\n",
        "                              transforms.Normalize(means,stds) # Normalizes tensor with mean and standard deviation\n",
        "])"
      ]
    },
    {
      "cell_type": "markdown",
      "metadata": {
        "id": "2qYIHPzYLY7i"
      },
      "source": [
        "**Prepare Dataset**"
      ]
    },
    {
      "cell_type": "code",
      "execution_count": 4,
      "metadata": {
        "colab": {
          "base_uri": "https://localhost:8080/",
          "height": 198
        },
        "id": "QfVq_uDHLbsR",
        "outputId": "6df473bb-099f-40f4-9673-99e34fd2275e"
      },
      "outputs": [
        {
          "name": "stdout",
          "output_type": "stream",
          "text": [
            "Photo Dataset: 1670\n",
            "Art Dataset: 2048\n",
            "Cartoon Dataset: 2344\n",
            "Sketch Dataset: 3929\n"
          ]
        }
      ],
      "source": [
        "# Clone github repository with data\n",
        "if not os.path.isdir('./Homework3-PACS'):\n",
        "  !git clone https://github.com/MachineLearning2020/Homework3-PACS\n",
        "\n",
        "# Define datasets root\n",
        "DIR_PHOTO = 'Homework3-PACS/PACS/photo'\n",
        "DIR_ART = 'Homework3-PACS/PACS/art_painting'\n",
        "DIR_CARTOON = 'Homework3-PACS/PACS/cartoon'\n",
        "DIR_SKETCH = 'Homework3-PACS/PACS/sketch'\n",
        "\n",
        "# Prepare Pytorch train/test Datasets\n",
        "photo_dataset = torchvision.datasets.ImageFolder(DIR_PHOTO, transform=transf)\n",
        "art_dataset = torchvision.datasets.ImageFolder(DIR_ART, transform=transf)\n",
        "cartoon_dataset = torchvision.datasets.ImageFolder(DIR_CARTOON, transform=transf)\n",
        "sketch_dataset = torchvision.datasets.ImageFolder(DIR_SKETCH, transform=transf)\n",
        "\n",
        "# Check dataset sizes\n",
        "print(f\"Photo Dataset: {len(photo_dataset)}\")\n",
        "print(f\"Art Dataset: {len(art_dataset)}\")\n",
        "print(f\"Cartoon Dataset: {len(cartoon_dataset)}\")\n",
        "print(f\"Sketch Dataset: {len(sketch_dataset)}\")"
      ]
    },
    {
      "cell_type": "markdown",
      "metadata": {
        "id": "mFxctlHwUgaI"
      },
      "source": [
        "**Data exploration**"
      ]
    },
    {
      "cell_type": "code",
      "execution_count": 9,
      "metadata": {
        "colab": {
          "base_uri": "https://localhost:8080/",
          "height": 827
        },
        "id": "DrhvVQCVzILD",
        "outputId": "52660191-f883-47b1-f8a7-0c2016dfaef3"
      },
      "outputs": [
        {
          "name": "stdout",
          "output_type": "stream",
          "text": [
            "------ Some statistics ------\n",
            "Total images: 9991\n",
            "Number of classes: 7\n",
            "Classes: [0 1 2 3 4 5 6]\n",
            "Classes Names: ['Dog', 'Elephant', 'Giraffe', 'Guitar', 'Horse', 'House', 'Person']\n",
            "\n",
            "Total images per class: [1729 1654 1566 1113 1540  943 1446]\n",
            "Mean images per class: 1427.2857142857142\n",
            "Std images per class: 269.4002408980333\n",
            "\n",
            "Total images per domain/dataset:\n",
            "Photo Dataset: 1670\n",
            "Art Dataset: 2048\n",
            "Cartoon Dataset: 2344\n",
            "Sketch Dataset: 3929\n",
            "\n",
            "Element per class for each domain:\n",
            "photo_dataset: [189 202 182 186 199 280 432]\n",
            "art_dataset: [379 255 285 184 201 295 449]\n",
            "cartoon_dataset: [389 457 346 135 324 288 405]\n",
            "sketch_dataset: [772 740 753 608 816  80 160]\n"
          ]
        },
        {
          "data": {
            "image/png": "[encoded data removed]",
            "text/plain": [
              "<Figure size 1000x700 with 1 Axes>"
            ]
          },
          "metadata": {},
          "output_type": "display_data"
        },
        {
          "data": {
            "text/plain": [
              "<Figure size 640x480 with 0 Axes>"
            ]
          },
          "metadata": {},
          "output_type": "display_data"
        }
      ],
      "source": [
        "photo_dataset.imgs # same of print(photo_dataset.samples)\n",
        "# [('Homework3-PACS/PACS/photo/dog/056_0001.jpg', 0),\n",
        "#  ('Homework3-PACS/PACS/photo/dog/056_0002.jpg', 0) ... ]\n",
        "\n",
        "photo_dataset.classes\n",
        "# 'dog', 'elephant', 'giraffe', 'guitar', 'horse', 'house', 'person'\n",
        "\n",
        "photo_dataset.class_to_idx\n",
        "# {'dog': 0,\n",
        "#  'elephant': 1,\n",
        "#  'giraffe': 2,\n",
        "#  'guitar': 3,\n",
        "#  'horse': 4,\n",
        "#  'house': 5,\n",
        "#  'person': 6}\n",
        "\n",
        "# dimension of an image 3x227x227\n",
        "torch.Size([3, 227, 227])\n",
        "\n",
        "# plot images distribution\n",
        "plotImageDistribution(photo_dataset.targets, art_dataset.targets, cartoon_dataset.targets, sketch_dataset.targets, DATASETS_NAMES, CLASSES_NAMES, show=SHOW_IMG)"
      ]
    },
    {
      "cell_type": "markdown",
      "metadata": {
        "id": "FYEDQ7Z21ldN"
      },
      "source": [
        "**Prepare Dataloaders**"
      ]
    },
    {
      "cell_type": "code",
      "execution_count": 5,
      "metadata": {
        "id": "VriRw8SI1nle"
      },
      "outputs": [],
      "source": [
        "# Dataloaders iterate over pytorch datasets and transparently provide useful functions (e.g. parallelization and shuffling)\n",
        "photo_dataloader = DataLoader(photo_dataset, batch_size=BATCH_SIZE, shuffle=True, num_workers=4, drop_last=True)\n",
        "art_dataloader = DataLoader(art_dataset, batch_size=BATCH_SIZE, shuffle=True, num_workers=4, drop_last=False)\n",
        "cartoon_dataloader = DataLoader(cartoon_dataset, batch_size=BATCH_SIZE, shuffle=True, num_workers=4, drop_last=False)\n",
        "sketch_dataloader = DataLoader(sketch_dataset, batch_size=BATCH_SIZE, shuffle=True, num_workers=4, drop_last=False)"
      ]
    },
    {
      "cell_type": "code",
      "execution_count": null,
      "metadata": {
        "id": "3_g5OyKrVujF"
      },
      "outputs": [],
      "source": [
        "# check dimensions of images\n",
        "# cnt = 0\n",
        "# for img, _ in dataloader :\n",
        "#   print(img.shape)\n",
        "#   cnt+=1\n",
        "# print(cnt)"
      ]
    },
    {
      "cell_type": "markdown",
      "metadata": {
        "id": "KEyL3H_R4qCf"
      },
      "source": [
        "**Prepare Network for training**"
      ]
    },
    {
      "cell_type": "code",
      "execution_count": 6,
      "metadata": {
        "colab": {
          "base_uri": "https://localhost:8080/",
          "height": 85,
          "referenced_widgets": [
            "84e2865380aa4368a6b8e2832d7c70c1",
            "5097964021794d268512d8d8bc7092d6",
            "7c3018df37514d5bb5f1c7b38b9f331a",
            "a652399d234a4f77a72992dcb03a455a",
            "13bf47e2977d4797804010ac84c9575f",
            "271ac267e36343b2aa4fa774cdfc189a",
            "51a22cea8d494679ba74008ed8749116",
            "6766e12cc75f474a8e31edd9e837590c"
          ]
        },
        "id": "exHUjtXa22DN",
        "outputId": "65eb4ad3-6ef8-4ed1-bb7e-1084f9dd1ec7"
      },
      "outputs": [],
      "source": [
        "cudnn.benchmark # Calling this optimizes runtime\n",
        "\n",
        "if MODE == None :\n",
        "  raise RuntimeError(\"Select a MODE\")\n",
        "elif MODE == '3A':\n",
        "  # 3A) SENZA DANN\n",
        "  USE_DOMAIN_ADAPTATION = False\n",
        "  CROSS_DOMAIN_VALIDATION = False\n",
        "  USE_VALIDATION = False\n",
        "  ALPHA = None\n",
        "  transfer_set = None\n",
        "elif MODE == '3B' :\n",
        "  # 3B) Train DANN on Photo and test on Art painting with DANN adaptation\n",
        "  USE_DOMAIN_ADAPTATION = True\n",
        "  USE_VALIDATION = False\n",
        "  transfer_set = \"art painting\"\n",
        "elif MODE == '4A':\n",
        "  # 4A) Run a grid search on Photo to Cartoon and Photo to Sketch, without Domain Adaptation, and average results for each set of hyperparameters\n",
        "  transfer_set = 'sketch' # Photo to 'cartoon' or 'sketch'\n",
        "  USE_VALIDATION = True   # validation on transfer_set\n",
        "  USE_DOMAIN_ADAPTATION = False\n",
        "  CROSS_DOMAIN_VALIDATION = False\n",
        "  ALPHA = None\n",
        "  # 4B) when testing\n",
        "elif MODE == '4C':\n",
        "  # 4C) Run a grid search on Photo to Cartoon and Photo to Sketch, with Domain Adaptation, and average results for each set of hyperparameters\n",
        "  USE_VALIDATION = True   # validation on transfer_set\n",
        "  USE_DOMAIN_ADAPTATION = True\n",
        "  CROSS_DOMAIN_VALIDATION = True\n",
        "  # edit the following hyperparams:\n",
        "  transfer_set = 'cartoon' # Photo to 'cartoon' or 'sketch'\n",
        "\n",
        "\n",
        "EVAL_ACCURACY_ON_TRAINING = False\n",
        "SHOW_RESULTS = True\n",
        "\n",
        "source_dataloader = photo_dataloader\n",
        "test_dataloader = art_dataloader\n",
        "\n",
        "# Loading model\n",
        "net = dann_net(pretrained=True).to(DEVICE)\n",
        "#print(net) #check size output layer OK\n",
        "\n",
        "# Define loss function: CrossEntrpy for classification\n",
        "criterion = nn.CrossEntropyLoss()\n",
        "\n",
        "# Choose parameters to optimize\n",
        "parameters_to_optimize = net.parameters() # In this case we optimize over all the parameters of AlexNet\n",
        "\n",
        "# Define optimizer: updates the weights based on loss (SDG with momentum)\n",
        "optimizer = optim.SGD(parameters_to_optimize, lr=LR, momentum=MOMENTUM, weight_decay=WEIGHT_DECAY)\n",
        "\n",
        "# Define scheduler -> step-down policy which multiplies learning rate by gamma every STEP_SIZE epochs\n",
        "scheduler = optim.lr_scheduler.StepLR(optimizer, step_size=STEP_SIZE, gamma=GAMMA)\n",
        "\n",
        "if USE_DOMAIN_ADAPTATION and ALPHA == None :\n",
        "  raise RuntimeError(\"To use domain adaptation you must define parameter ALPHA\")\n",
        "\n",
        "if transfer_set == 'cartoon':\n",
        "  target_dataloader = cartoon_dataloader\n",
        "elif transfer_set == 'sketch':\n",
        "  target_dataloader = sketch_dataloader\n",
        "else :\n",
        "  target_dataloader = test_dataloader # art_dataloader\n",
        "\n",
        "if ALPHA_EXP :\n",
        "  # ALPHA exponential decaying as described in the paper\n",
        "  p = float(i + epoch * len_dataloader) / n_epoch / len_dataloader\n",
        "  ALPHA = 2. / (1. + np.exp(-10 * p)) - 1"
      ]
    },
    {
      "cell_type": "markdown",
      "metadata": {
        "id": "AxYUli9d9uYQ"
      },
      "source": [
        "**Train**"
      ]
    },
    {
      "cell_type": "code",
      "execution_count": null,
      "metadata": {
        "colab": {
          "base_uri": "https://localhost:8080/",
          "height": 1000
        },
        "id": "ZcoQ5fD49yT_",
        "outputId": "ca43aa66-f154-4eb0-e45a-8cafd77963c2"
      },
      "outputs": [
        {
          "name": "stdout",
          "output_type": "stream",
          "text": [
            "--- Epoch 1/30, LR = [0.0001]\n",
            "Accuracy on validation (cartoon): 0.2565789473684211\n",
            "--- Epoch 2/30, LR = [0.0001]\n",
            "Accuracy on validation (cartoon): 0.26069078947368424\n",
            "--- Epoch 3/30, LR = [0.0001]\n",
            "Accuracy on validation (cartoon): 0.23766447368421054\n",
            "--- Epoch 4/30, LR = [0.0001]\n",
            "Accuracy on validation (cartoon): 0.234375\n",
            "--- Epoch 5/30, LR = [0.0001]\n",
            "Accuracy on validation (cartoon): 0.24753289473684212\n",
            "--- Epoch 6/30, LR = [0.0001]\n",
            "Accuracy on validation (cartoon): 0.2565789473684211\n",
            "--- Epoch 7/30, LR = [0.0001]\n"
          ]
        },
        {
          "name": "stderr",
          "output_type": "stream",
          "text": [
            "Exception ignored in: <function _MultiProcessingDataLoaderIter.__del__ at 0x0000022FB51FDAF0>\n",
            "Traceback (most recent call last):\n",
            "  File \"c:\\Users\\TingNobody\\.conda\\envs\\pytorch\\lib\\site-packages\\torch\\utils\\data\\dataloader.py\", line 1479, in __del__\n",
            "    self._shutdown_workers()\n",
            "  File \"c:\\Users\\TingNobody\\.conda\\envs\\pytorch\\lib\\site-packages\\torch\\utils\\data\\dataloader.py\", line 1443, in _shutdown_workers\n",
            "    w.join(timeout=_utils.MP_STATUS_CHECK_INTERVAL)\n",
            "  File \"c:\\Users\\TingNobody\\.conda\\envs\\pytorch\\lib\\multiprocessing\\process.py\", line 149, in join\n",
            "    res = self._popen.wait(timeout)\n",
            "  File \"c:\\Users\\TingNobody\\.conda\\envs\\pytorch\\lib\\multiprocessing\\popen_spawn_win32.py\", line 108, in wait\n",
            "    res = _winapi.WaitForSingleObject(int(self._handle), msecs)\n",
            "KeyboardInterrupt: \n"
          ]
        }
      ],
      "source": [
        "current_step = 0\n",
        "accuracies_train = []\n",
        "accuracies_validation = []\n",
        "loss_class_list = []\n",
        "loss_target_list = []\n",
        "loss_source_list = []\n",
        "\n",
        "# Start iterating over the epochs\n",
        "for epoch in range(NUM_EPOCHS):\n",
        "\n",
        "  net.train(True)\n",
        "\n",
        "  #print('--- Epoch {}/{}, LR = {}  ALPHA = [{}] TARGET DATASET = [{}]'.format(epoch+1, NUM_EPOCHS, scheduler.get_lr(), ALPHA, transfer_set))\n",
        "  print(f\"--- Epoch {epoch+1}/{NUM_EPOCHS}, LR = {scheduler.get_last_lr()}\")\n",
        "\n",
        "  # Iterate over the dataset\n",
        "  for source_images, source_labels in source_dataloader:\n",
        "    source_images = source_images.to(DEVICE)\n",
        "    source_labels = source_labels.to(DEVICE)\n",
        "\n",
        "    optimizer.zero_grad() # Zero-ing the gradients\n",
        "\n",
        "    # STEP 1: train the classifier\n",
        "    outputs = net(source_images)\n",
        "    loss_class = criterion(outputs, source_labels)\n",
        "    loss_class_list.append(loss_class.item())\n",
        "\n",
        "    # if current_step % LOG_FREQUENCY == 0:\n",
        "    #   print('Step {}, Loss Classifier {}'.format(current_step+1, loss_class.item()))\n",
        "    loss_class.backward()  # backward pass: computes gradients\n",
        "\n",
        "    # Domain Adaptation (Cross Domain Validation)\n",
        "    if USE_DOMAIN_ADAPTATION :\n",
        "\n",
        "      # Load target batch\n",
        "      target_images, target_labels = next(iter(target_dataloader))\n",
        "      target_images = target_images.to(DEVICE)\n",
        "\n",
        "      # if ALPHA_EXP :\n",
        "      #   # ALPHA exponential decaying as described in the paper\n",
        "      #   p = float(i + epoch * len_dataloader) / NUM_EPOCHS / len_dataloader\n",
        "      #   ALPHA = 2. / (1. + np.exp(-10 * p)) - 1\n",
        "\n",
        "      # STEP 2: train the discriminator: forward SOURCE data to Gd\n",
        "      outputs = net.forward(source_images, alpha=ALPHA)\n",
        "      # source's label is 0 for all data\n",
        "      labels_discr_source = torch.zeros(BATCH_SIZE, dtype=torch.int64).to(DEVICE)\n",
        "      loss_discr_source = criterion(outputs, labels_discr_source)\n",
        "      loss_source_list.append(loss_discr_source.item())\n",
        "      # if current_step % LOG_FREQUENCY == 0:\n",
        "      #   print('Step {}, Loss Discriminator Source {}'.format(current_step+1, loss_discr_source.item()))\n",
        "      loss_discr_source.backward()\n",
        "\n",
        "      # STEP 3: train the discriminator: forward TARGET to Gd\n",
        "      outputs = net.forward(target_images, alpha=ALPHA)\n",
        "      labels_discr_target = torch.ones(BATCH_SIZE, dtype=torch.int64).to(DEVICE) # target's label is 1\n",
        "      loss_discr_target = criterion(outputs, labels_discr_target)\n",
        "      loss_target_list.append(loss_discr_target.item())\n",
        "      # if current_step % LOG_FREQUENCY == 0:\n",
        "        # print('Step {}, Loss Discriminator Target {}'.format(current_step+1, loss_discr_target.item()))\n",
        "      loss_discr_target.backward()    #update gradients\n",
        "\n",
        "    optimizer.step() # update weights based on accumulated gradients\n",
        "\n",
        "  # --- Accuracy on training\n",
        "  if EVAL_ACCURACY_ON_TRAINING:\n",
        "    with torch.no_grad():\n",
        "      net.train(False)\n",
        "\n",
        "      running_corrects_train = 0\n",
        "\n",
        "      for images_train, labels_train in source_dataloader:\n",
        "        # images, labels = next(iter(source_dataloader))\n",
        "        images_train = images_train.to(DEVICE)\n",
        "        labels_train = labels_train.to(DEVICE)\n",
        "\n",
        "        # Forward Pass\n",
        "        outputs_train = net(images_train)\n",
        "\n",
        "        # Get predictions\n",
        "        _, preds = torch.max(outputs_train.data, 1)\n",
        "\n",
        "        # Update Corrects\n",
        "        running_corrects_train += torch.sum(preds == labels_train.data).data.item()\n",
        "\n",
        "    # Calculate Accuracy\n",
        "    accuracy_train = running_corrects_train / float(len(source_dataloader)*(target_dataloader.batch_size))\n",
        "    accuracies_train.append(accuracy_train)\n",
        "    print('Accuracy on train (photo):', accuracy_train)\n",
        "\n",
        "  # --- VALIDATION SET\n",
        "  if USE_VALIDATION :\n",
        "    # now train is finished, evaluate the model on the target dataset\n",
        "    net.train(False) # Set Network to evaluation mode\n",
        "\n",
        "    running_corrects = 0\n",
        "    for images, labels in target_dataloader:\n",
        "      images = images.to(DEVICE)\n",
        "      labels = labels.to(DEVICE)\n",
        "\n",
        "      outputs = net(images)\n",
        "      _, preds = torch.max(outputs.data, 1)\n",
        "      running_corrects += torch.sum(preds == labels.data).data.item()\n",
        "\n",
        "    # Calculate Accuracy\n",
        "    accuracy = running_corrects / float( len(target_dataloader)*(target_dataloader.batch_size) )\n",
        "    accuracies_validation.append(accuracy)\n",
        "    print(f\"Accuracy on validation ({transfer_set}): {accuracy}\")\n",
        "\n",
        "  # Step the scheduler\n",
        "  current_step += 1\n",
        "  scheduler.step()\n",
        "\n",
        "if SHOW_RESULTS:\n",
        "  print()\n",
        "  print(\"Loss classifier\")\n",
        "  print(loss_class_list)\n",
        "  if USE_DOMAIN_ADAPTATION :\n",
        "    print(\"\\nLoss discriminator source\")\n",
        "    print(loss_source_list)\n",
        "    print(\"\\nLoss discriminator target\")\n",
        "    print(loss_target_list)"
      ]
    },
    {
      "cell_type": "markdown",
      "metadata": {
        "id": "UsHFI-GAJd69"
      },
      "source": [
        "**Test**"
      ]
    },
    {
      "cell_type": "code",
      "execution_count": null,
      "metadata": {
        "colab": {
          "base_uri": "https://localhost:8080/",
          "height": 72
        },
        "id": "EO3HV5pqJg1o",
        "outputId": "6c113aef-5db5-4702-b558-1e87a6c9ece3"
      },
      "outputs": [
        {
          "name": "stderr",
          "output_type": "stream",
          "text": [
            "100%|██████████| 16/16 [00:04<00:00,  3.23it/s]"
          ]
        },
        {
          "name": "stdout",
          "output_type": "stream",
          "text": [
            "\n",
            "Test Accuracy (art painting): 0.48876953125 (1001 / 2048)\n"
          ]
        },
        {
          "name": "stderr",
          "output_type": "stream",
          "text": [
            "\n"
          ]
        }
      ],
      "source": [
        "net = net.to(DEVICE) # this will bring the network to GPU if DEVICE is cuda\n",
        "net.train(False) # Set Network to evaluation mode\n",
        "\n",
        "running_corrects = 0\n",
        "for images, labels in tqdm(test_dataloader):\n",
        "  images = images.to(DEVICE)\n",
        "  labels = labels.to(DEVICE)\n",
        "\n",
        "  # Forward Pass\n",
        "  outputs = net(images)\n",
        "\n",
        "  # Get predictions\n",
        "  _, preds = torch.max(outputs.data, 1)\n",
        "\n",
        "  # Update Corrects\n",
        "  running_corrects += torch.sum(preds == labels.data).data.item()\n",
        "\n",
        "# Calculate Accuracy\n",
        "accuracy = running_corrects / float(len(art_dataset))\n",
        "\n",
        "print('\\nTest Accuracy (art painting): {} ({} / {})'.format(accuracy, running_corrects, len(art_dataset)))"
      ]
    },
    {
      "cell_type": "code",
      "execution_count": null,
      "metadata": {
        "colab": {
          "base_uri": "https://localhost:8080/",
          "height": 128
        },
        "id": "oGUOxbwYpEvd",
        "outputId": "32b114fa-a172-4777-b20d-c2fd7157bade"
      },
      "outputs": [
        {
          "name": "stdout",
          "output_type": "stream",
          "text": [
            "Validation on:  cartoon\n",
            "accuracy_valid: 0.4017\n",
            "Test accuracy:  0.4888\n",
            "Val on cartoon, LR = 0.0001, ALPHA = 1.0, BATCH_SIZE = 128\n",
            "[0.24259868421052633, 0.2680921052631579, 0.26274671052631576, 0.3013980263157895, 0.3227796052631579, 0.33758223684210525, 0.34745065789473684, 0.3490953947368421, 0.34539473684210525, 0.35567434210526316, 0.3638980263157895, 0.36883223684210525, 0.3754111842105263, 0.3737664473684211, 0.3754111842105263, 0.37417763157894735, 0.37582236842105265, 0.37787828947368424, 0.38651315789473684, 0.3918585526315789, 0.3930921052631579, 0.3939144736842105, 0.39555921052631576, 0.3951480263157895, 0.39432565789473684, 0.3959703947368421, 0.39679276315789475, 0.39925986842105265, 0.40131578947368424, 0.4017269736842105]\n"
          ]
        }
      ],
      "source": [
        "beep()\n",
        "if USE_VALIDATION :\n",
        "  print(f\"Validation on:  {transfer_set}\")\n",
        "  print(f\"accuracy_valid: {accuracies_validation[-1]:.4f}\")\n",
        "print(f\"Test accuracy:  {accuracy:.4f}\")\n",
        "print(f\"Val on {transfer_set}, LR = {LR}, ALPHA = {ALPHA}, BATCH_SIZE = {BATCH_SIZE}\")\n",
        "print(accuracies_validation)"
      ]
    },
    {
      "cell_type": "code",
      "execution_count": null,
      "metadata": {
        "colab": {
          "base_uri": "https://localhost:8080/",
          "height": 279
        },
        "id": "jaM9WG7-UHLq",
        "outputId": "b645abba-9287-4e3b-bbcf-cf44cc729ae4"
      },
      "outputs": [
        {
          "data": {
            "image/png": "[encoded data removed]",
            "text/plain": [
              "<Figure size 432x288 with 1 Axes>"
            ]
          },
          "metadata": {
            "needs_background": "light",
            "tags": []
          },
          "output_type": "display_data"
        }
      ],
      "source": [
        "if USE_DOMAIN_ADAPTATION :\n",
        "  # Plot losses\n",
        "  plotLosses(loss_class_list, loss_source_list, loss_target_list, n_epochs=len(loss_class_list), show=SHOW_IMG)"
      ]
    }
  ],
  "metadata": {
    "accelerator": "GPU",
    "colab": {
      "provenance": []
    },
    "kernelspec": {
      "display_name": "pytorch",
      "language": "python",
      "name": "python3"
    },
    "language_info": {
      "codemirror_mode": {
        "name": "ipython",
        "version": 3
      },
      "file_extension": ".py",
      "mimetype": "text/x-python",
      "name": "python",
      "nbconvert_exporter": "python",
      "pygments_lexer": "ipython3",
      "version": "3.9.15"
    },
    "widgets": {
      "application/vnd.jupyter.widget-state+json": {
        "13bf47e2977d4797804010ac84c9575f": {
          "model_module": "@jupyter-widgets/controls",
          "model_module_version": "1.5.0",
          "model_name": "ProgressStyleModel",
          "state": {
            "_model_module": "@jupyter-widgets/controls",
            "_model_module_version": "1.5.0",
            "_model_name": "ProgressStyleModel",
            "_view_count": null,
            "_view_module": "@jupyter-widgets/base",
            "_view_module_version": "1.2.0",
            "_view_name": "StyleView",
            "bar_color": null,
            "description_width": "initial"
          }
        },
        "271ac267e36343b2aa4fa774cdfc189a": {
          "model_module": "@jupyter-widgets/base",
          "model_module_version": "1.2.0",
          "model_name": "LayoutModel",
          "state": {
            "_model_module": "@jupyter-widgets/base",
            "_model_module_version": "1.2.0",
            "_model_name": "LayoutModel",
            "_view_count": null,
            "_view_module": "@jupyter-widgets/base",
            "_view_module_version": "1.2.0",
            "_view_name": "LayoutView",
            "align_content": null,
            "align_items": null,
            "align_self": null,
            "border": null,
            "bottom": null,
            "display": null,
            "flex": null,
            "flex_flow": null,
            "grid_area": null,
            "grid_auto_columns": null,
            "grid_auto_flow": null,
            "grid_auto_rows": null,
            "grid_column": null,
            "grid_gap": null,
            "grid_row": null,
            "grid_template_areas": null,
            "grid_template_columns": null,
            "grid_template_rows": null,
            "height": null,
            "justify_content": null,
            "justify_items": null,
            "left": null,
            "margin": null,
            "max_height": null,
            "max_width": null,
            "min_height": null,
            "min_width": null,
            "object_fit": null,
            "object_position": null,
            "order": null,
            "overflow": null,
            "overflow_x": null,
            "overflow_y": null,
            "padding": null,
            "right": null,
            "top": null,
            "visibility": null,
            "width": null
          }
        },
        "5097964021794d268512d8d8bc7092d6": {
          "model_module": "@jupyter-widgets/base",
          "model_module_version": "1.2.0",
          "model_name": "LayoutModel",
          "state": {
            "_model_module": "@jupyter-widgets/base",
            "_model_module_version": "1.2.0",
            "_model_name": "LayoutModel",
            "_view_count": null,
            "_view_module": "@jupyter-widgets/base",
            "_view_module_version": "1.2.0",
            "_view_name": "LayoutView",
            "align_content": null,
            "align_items": null,
            "align_self": null,
            "border": null,
            "bottom": null,
            "display": null,
            "flex": null,
            "flex_flow": null,
            "grid_area": null,
            "grid_auto_columns": null,
            "grid_auto_flow": null,
            "grid_auto_rows": null,
            "grid_column": null,
            "grid_gap": null,
            "grid_row": null,
            "grid_template_areas": null,
            "grid_template_columns": null,
            "grid_template_rows": null,
            "height": null,
            "justify_content": null,
            "justify_items": null,
            "left": null,
            "margin": null,
            "max_height": null,
            "max_width": null,
            "min_height": null,
            "min_width": null,
            "object_fit": null,
            "object_position": null,
            "order": null,
            "overflow": null,
            "overflow_x": null,
            "overflow_y": null,
            "padding": null,
            "right": null,
            "top": null,
            "visibility": null,
            "width": null
          }
        },
        "51a22cea8d494679ba74008ed8749116": {
          "model_module": "@jupyter-widgets/controls",
          "model_module_version": "1.5.0",
          "model_name": "DescriptionStyleModel",
          "state": {
            "_model_module": "@jupyter-widgets/controls",
            "_model_module_version": "1.5.0",
            "_model_name": "DescriptionStyleModel",
            "_view_count": null,
            "_view_module": "@jupyter-widgets/base",
            "_view_module_version": "1.2.0",
            "_view_name": "StyleView",
            "description_width": ""
          }
        },
        "6766e12cc75f474a8e31edd9e837590c": {
          "model_module": "@jupyter-widgets/base",
          "model_module_version": "1.2.0",
          "model_name": "LayoutModel",
          "state": {
            "_model_module": "@jupyter-widgets/base",
            "_model_module_version": "1.2.0",
            "_model_name": "LayoutModel",
            "_view_count": null,
            "_view_module": "@jupyter-widgets/base",
            "_view_module_version": "1.2.0",
            "_view_name": "LayoutView",
            "align_content": null,
            "align_items": null,
            "align_self": null,
            "border": null,
            "bottom": null,
            "display": null,
            "flex": null,
            "flex_flow": null,
            "grid_area": null,
            "grid_auto_columns": null,
            "grid_auto_flow": null,
            "grid_auto_rows": null,
            "grid_column": null,
            "grid_gap": null,
            "grid_row": null,
            "grid_template_areas": null,
            "grid_template_columns": null,
            "grid_template_rows": null,
            "height": null,
            "justify_content": null,
            "justify_items": null,
            "left": null,
            "margin": null,
            "max_height": null,
            "max_width": null,
            "min_height": null,
            "min_width": null,
            "object_fit": null,
            "object_position": null,
            "order": null,
            "overflow": null,
            "overflow_x": null,
            "overflow_y": null,
            "padding": null,
            "right": null,
            "top": null,
            "visibility": null,
            "width": null
          }
        },
        "7c3018df37514d5bb5f1c7b38b9f331a": {
          "model_module": "@jupyter-widgets/controls",
          "model_module_version": "1.5.0",
          "model_name": "FloatProgressModel",
          "state": {
            "_dom_classes": [],
            "_model_module": "@jupyter-widgets/controls",
            "_model_module_version": "1.5.0",
            "_model_name": "FloatProgressModel",
            "_view_count": null,
            "_view_module": "@jupyter-widgets/controls",
            "_view_module_version": "1.5.0",
            "_view_name": "ProgressView",
            "bar_style": "success",
            "description": "100%",
            "description_tooltip": null,
            "layout": "IPY_MODEL_271ac267e36343b2aa4fa774cdfc189a",
            "max": 244418560,
            "min": 0,
            "orientation": "horizontal",
            "style": "IPY_MODEL_13bf47e2977d4797804010ac84c9575f",
            "value": 244418560
          }
        },
        "84e2865380aa4368a6b8e2832d7c70c1": {
          "model_module": "@jupyter-widgets/controls",
          "model_module_version": "1.5.0",
          "model_name": "HBoxModel",
          "state": {
            "_dom_classes": [],
            "_model_module": "@jupyter-widgets/controls",
            "_model_module_version": "1.5.0",
            "_model_name": "HBoxModel",
            "_view_count": null,
            "_view_module": "@jupyter-widgets/controls",
            "_view_module_version": "1.5.0",
            "_view_name": "HBoxView",
            "box_style": "",
            "children": [
              "IPY_MODEL_7c3018df37514d5bb5f1c7b38b9f331a",
              "IPY_MODEL_a652399d234a4f77a72992dcb03a455a"
            ],
            "layout": "IPY_MODEL_5097964021794d268512d8d8bc7092d6"
          }
        },
        "a652399d234a4f77a72992dcb03a455a": {
          "model_module": "@jupyter-widgets/controls",
          "model_module_version": "1.5.0",
          "model_name": "HTMLModel",
          "state": {
            "_dom_classes": [],
            "_model_module": "@jupyter-widgets/controls",
            "_model_module_version": "1.5.0",
            "_model_name": "HTMLModel",
            "_view_count": null,
            "_view_module": "@jupyter-widgets/controls",
            "_view_module_version": "1.5.0",
            "_view_name": "HTMLView",
            "description": "",
            "description_tooltip": null,
            "layout": "IPY_MODEL_6766e12cc75f474a8e31edd9e837590c",
            "placeholder": "​",
            "style": "IPY_MODEL_51a22cea8d494679ba74008ed8749116",
            "value": " 233M/233M [09:31&lt;00:00, 428kB/s]"
          }
        }
      }
    }
  },
  "nbformat": 4,
  "nbformat_minor": 0
}
